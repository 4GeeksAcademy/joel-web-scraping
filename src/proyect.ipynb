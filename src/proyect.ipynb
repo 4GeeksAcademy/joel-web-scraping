{
 "cells": [
  {
   "cell_type": "markdown",
   "metadata": {},
   "source": [
    "Primero que nada, importamos nuestras librerías. Luego, descargamos nuestra URL y transformamos nuestro HTML con BeautifulSoup."
   ]
  },
  {
   "cell_type": "code",
   "execution_count": 66,
   "metadata": {},
   "outputs": [
    {
     "data": {
      "text/plain": [
       "<Response [200]>"
      ]
     },
     "execution_count": 66,
     "metadata": {},
     "output_type": "execute_result"
    }
   ],
   "source": [
    "from bs4 import BeautifulSoup\n",
    "import pandas as pd \n",
    "import requests\n",
    "import time\n",
    "import pymysql\n",
    "headers = {'User-Agent': 'Mozilla/5.0 (Windows NT 10.0; Win64; x64) AppleWebKit/537.36 (KHTML, like Gecko) Chrome/58.0.3029.110 Safari/537.3'}\n",
    "url_recurso = \"https://www.macrotrends.net/stocks/charts/TSLA/tesla/revenue\"\n",
    "respuesta = requests.get(url_recurso,time.sleep(10),headers=headers)\n",
    "soup = BeautifulSoup(respuesta.text,'html.parser')\n",
    "respuesta"
   ]
  },
  {
   "cell_type": "markdown",
   "metadata": {},
   "source": [
    "Ahora buscamos todas las tablas para encontrar la que tenga la evolución trimestral y convertirla en un dataframe.\n"
   ]
  },
  {
   "cell_type": "code",
   "execution_count": 67,
   "metadata": {},
   "outputs": [
    {
     "name": "stdout",
     "output_type": "stream",
     "text": [
      "         Date Revenue\n",
      "0  2023-12-31   25167\n",
      "1  2023-09-30   23350\n",
      "2  2023-06-30   24927\n",
      "3  2023-03-31   23329\n",
      "4  2022-12-31   24318\n"
     ]
    },
    {
     "name": "stderr",
     "output_type": "stream",
     "text": [
      "C:\\Users\\jdean\\AppData\\Local\\Temp\\ipykernel_17076\\1198964488.py:3: FutureWarning: Passing literal html to 'read_html' is deprecated and will be removed in a future version. To read from a literal string, wrap it in a 'StringIO' object.\n",
      "  df = pd.read_html(str(tables[1]))\n"
     ]
    }
   ],
   "source": [
    "tables = soup.find_all('table')\n",
    "\n",
    "df = pd.read_html(str(tables[1]))\n",
    "data_frame = df[0]\n",
    "data_frame.columns = ['Date','Revenue'] \n",
    "data_frame['Revenue'] = data_frame['Revenue'].str.replace('[$,]', '',regex= True)\n",
    "data_frame = data_frame.dropna()\n",
    "print(data_frame.head())"
   ]
  },
  {
   "cell_type": "markdown",
   "metadata": {},
   "source": [
    "En este caso vamos a llevarlo al servidor sql "
   ]
  },
  {
   "cell_type": "code",
   "execution_count": 75,
   "metadata": {},
   "outputs": [],
   "source": [
    "import pymysql\n",
    "connection = pymysql.connect(host='localhost',\n",
    "                             user='root',\n",
    "                             password='Joe2022098',\n",
    "                             port= 3306,\n",
    "                             database='base_de_datos_prueba')\n",
    "cursor = connection.cursor()\n",
    "\n",
    "crear_tabla_ = \"\"\"\n",
    "CREATE TABLE IF NOT EXISTS Evolucion (\n",
    "    Date DATE,\n",
    "    Revenue INT  \n",
    ")\n",
    "\"\"\"\n",
    "cursor.execute(crear_tabla_)\n",
    "connection.commit()"
   ]
  },
  {
   "cell_type": "code",
   "execution_count": 81,
   "metadata": {},
   "outputs": [],
   "source": [
    "\n",
    "\n",
    "for row in data_frame.to_records(index=False):\n",
    "    cursor.execute(\"INSERT INTO Evolucion (Date, Revenue) VALUES (%s, %s)\", (row.Date, row.Revenue))\n",
    "connection.commit()"
   ]
  },
  {
   "cell_type": "code",
   "execution_count": 83,
   "metadata": {},
   "outputs": [
    {
     "data": {
      "text/plain": [
       "((datetime.date(2023, 12, 31), 25167),\n",
       " (datetime.date(2023, 9, 30), 23350),\n",
       " (datetime.date(2023, 6, 30), 24927),\n",
       " (datetime.date(2023, 3, 31), 23329),\n",
       " (datetime.date(2022, 12, 31), 24318),\n",
       " (datetime.date(2022, 9, 30), 21454),\n",
       " (datetime.date(2022, 6, 30), 16934),\n",
       " (datetime.date(2022, 3, 31), 18756),\n",
       " (datetime.date(2021, 12, 31), 17719),\n",
       " (datetime.date(2021, 9, 30), 13757),\n",
       " (datetime.date(2021, 6, 30), 11958),\n",
       " (datetime.date(2021, 3, 31), 10389),\n",
       " (datetime.date(2020, 12, 31), 10744),\n",
       " (datetime.date(2020, 9, 30), 8771),\n",
       " (datetime.date(2020, 6, 30), 6036),\n",
       " (datetime.date(2020, 3, 31), 5985),\n",
       " (datetime.date(2019, 12, 31), 7384),\n",
       " (datetime.date(2019, 9, 30), 6303),\n",
       " (datetime.date(2019, 6, 30), 6350),\n",
       " (datetime.date(2019, 3, 31), 4541),\n",
       " (datetime.date(2018, 12, 31), 7226),\n",
       " (datetime.date(2018, 9, 30), 6824),\n",
       " (datetime.date(2018, 6, 30), 4002),\n",
       " (datetime.date(2018, 3, 31), 3409),\n",
       " (datetime.date(2017, 12, 31), 3288),\n",
       " (datetime.date(2017, 9, 30), 2985),\n",
       " (datetime.date(2017, 6, 30), 2790),\n",
       " (datetime.date(2017, 3, 31), 2696),\n",
       " (datetime.date(2016, 12, 31), 2285),\n",
       " (datetime.date(2016, 9, 30), 2298),\n",
       " (datetime.date(2016, 6, 30), 1270),\n",
       " (datetime.date(2016, 3, 31), 1147),\n",
       " (datetime.date(2015, 12, 31), 1214),\n",
       " (datetime.date(2015, 9, 30), 937),\n",
       " (datetime.date(2015, 6, 30), 955),\n",
       " (datetime.date(2015, 3, 31), 940),\n",
       " (datetime.date(2014, 12, 31), 957),\n",
       " (datetime.date(2014, 9, 30), 852),\n",
       " (datetime.date(2014, 6, 30), 769),\n",
       " (datetime.date(2014, 3, 31), 621),\n",
       " (datetime.date(2013, 12, 31), 615),\n",
       " (datetime.date(2013, 9, 30), 431),\n",
       " (datetime.date(2013, 6, 30), 405),\n",
       " (datetime.date(2013, 3, 31), 562),\n",
       " (datetime.date(2012, 12, 31), 306),\n",
       " (datetime.date(2012, 9, 30), 50),\n",
       " (datetime.date(2012, 6, 30), 27),\n",
       " (datetime.date(2012, 3, 31), 30),\n",
       " (datetime.date(2011, 12, 31), 39),\n",
       " (datetime.date(2011, 9, 30), 58),\n",
       " (datetime.date(2011, 6, 30), 58),\n",
       " (datetime.date(2011, 3, 31), 49),\n",
       " (datetime.date(2010, 12, 31), 36),\n",
       " (datetime.date(2010, 9, 30), 31),\n",
       " (datetime.date(2010, 6, 30), 28),\n",
       " (datetime.date(2010, 3, 31), 21),\n",
       " (datetime.date(2009, 9, 30), 46),\n",
       " (datetime.date(2009, 6, 30), 27))"
      ]
     },
     "execution_count": 83,
     "metadata": {},
     "output_type": "execute_result"
    }
   ],
   "source": [
    "cursor.execute(\"SELECT * FROM Evolucion\")\n",
    "registros = cursor.fetchall()\n",
    "registros"
   ]
  }
 ],
 "metadata": {
  "kernelspec": {
   "display_name": "Python 3",
   "language": "python",
   "name": "python3"
  },
  "language_info": {
   "codemirror_mode": {
    "name": "ipython",
    "version": 3
   },
   "file_extension": ".py",
   "mimetype": "text/x-python",
   "name": "python",
   "nbconvert_exporter": "python",
   "pygments_lexer": "ipython3",
   "version": "3.12.2"
  }
 },
 "nbformat": 4,
 "nbformat_minor": 2
}
