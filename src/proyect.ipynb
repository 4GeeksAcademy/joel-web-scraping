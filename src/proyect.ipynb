{
 "cells": [
  {
   "cell_type": "markdown",
   "metadata": {},
   "source": [
    "Primero que nada, importamos nuestras librerías. Luego, descargamos nuestra URL y transformamos nuestro HTML con BeautifulSoup."
   ]
  },
  {
   "cell_type": "code",
   "execution_count": 21,
   "metadata": {},
   "outputs": [],
   "source": [
    "from bs4 import BeautifulSoup\n",
    "import pandas as pd \n",
    "import requests\n",
    "import time\n",
    "import pymysql\n",
    "import re\n",
    "headers = {'User-Agent': 'Mozilla/5.0 (Windows NT 10.0; Win64; x64) AppleWebKit/537.36 (KHTML, like Gecko) Chrome/58.0.3029.110 Safari/537.3'}\n",
    "url_recurso = \"https://www.macrotrends.net/stocks/charts/TSLA/tesla/revenue\"\n",
    "respuesta = requests.get(url_recurso,time.sleep(10),headers=headers)\n",
    "soup = BeautifulSoup(respuesta.text,'html.parser')\n",
    "if respuesta.status_code != 200:\n",
    "    raise Exception(f\"Error al acceder a la URL: {url}\")"
   ]
  },
  {
   "cell_type": "markdown",
   "metadata": {},
   "source": [
    "Ahora buscamos todas las tablas para encontrar la que tenga la evolución trimestral y convertirla en un dataframe.\n"
   ]
  },
  {
   "cell_type": "code",
   "execution_count": 3,
   "metadata": {},
   "outputs": [
    {
     "name": "stdout",
     "output_type": "stream",
     "text": [
      "         Date Revenue\n",
      "0  2023-12-31   25167\n",
      "1  2023-09-30   23350\n",
      "2  2023-06-30   24927\n",
      "3  2023-03-31   23329\n",
      "4  2022-12-31   24318\n"
     ]
    },
    {
     "name": "stderr",
     "output_type": "stream",
     "text": [
      "C:\\Users\\jdean\\AppData\\Local\\Temp\\ipykernel_7556\\1198964488.py:3: FutureWarning: Passing literal html to 'read_html' is deprecated and will be removed in a future version. To read from a literal string, wrap it in a 'StringIO' object.\n",
      "  df = pd.read_html(str(tables[1]))\n"
     ]
    }
   ],
   "source": [
    "tables = soup.find_all('table')\n",
    "\n",
    "df = pd.read_html(str(tables[1]))\n",
    "data_frame = df[0]\n",
    "data_frame.columns = ['Date','Revenue'] \n",
    "data_frame['Revenue'] = data_frame['Revenue'].str.replace('[$,]', '',regex= True)\n",
    "data_frame = data_frame.dropna()\n",
    "print(data_frame.head())"
   ]
  },
  {
   "cell_type": "markdown",
   "metadata": {},
   "source": [
    "En este caso vamos a llevarlo al servidor sql "
   ]
  },
  {
   "cell_type": "code",
   "execution_count": 75,
   "metadata": {},
   "outputs": [],
   "source": [
    "import pymysql\n",
    "connection = pymysql.connect(host='localhost',\n",
    "                             user='root',\n",
    "                             password='Joe2022098',\n",
    "                             port= 3306,\n",
    "                             database='base_de_datos_prueba')\n",
    "cursor = connection.cursor()\n",
    "\n",
    "crear_tabla_ = \"\"\"\n",
    "CREATE TABLE IF NOT EXISTS Evolucion (\n",
    "    Date DATE,\n",
    "    Revenue INT  \n",
    ")\n",
    "\"\"\"\n",
    "cursor.execute(crear_tabla_)\n",
    "connection.commit()"
   ]
  },
  {
   "cell_type": "code",
   "execution_count": 81,
   "metadata": {},
   "outputs": [],
   "source": [
    "\n",
    "\n",
    "for row in data_frame.to_records(index=False):\n",
    "    cursor.execute(\"INSERT INTO Evolucion (Date, Revenue) VALUES (%s, %s)\", (row.Date, row.Revenue))\n",
    "connection.commit()"
   ]
  },
  {
   "cell_type": "code",
   "execution_count": 83,
   "metadata": {},
   "outputs": [
    {
     "data": {
      "text/plain": [
       "((datetime.date(2023, 12, 31), 25167),\n",
       " (datetime.date(2023, 9, 30), 23350),\n",
       " (datetime.date(2023, 6, 30), 24927),\n",
       " (datetime.date(2023, 3, 31), 23329),\n",
       " (datetime.date(2022, 12, 31), 24318),\n",
       " (datetime.date(2022, 9, 30), 21454),\n",
       " (datetime.date(2022, 6, 30), 16934),\n",
       " (datetime.date(2022, 3, 31), 18756),\n",
       " (datetime.date(2021, 12, 31), 17719),\n",
       " (datetime.date(2021, 9, 30), 13757),\n",
       " (datetime.date(2021, 6, 30), 11958),\n",
       " (datetime.date(2021, 3, 31), 10389),\n",
       " (datetime.date(2020, 12, 31), 10744),\n",
       " (datetime.date(2020, 9, 30), 8771),\n",
       " (datetime.date(2020, 6, 30), 6036),\n",
       " (datetime.date(2020, 3, 31), 5985),\n",
       " (datetime.date(2019, 12, 31), 7384),\n",
       " (datetime.date(2019, 9, 30), 6303),\n",
       " (datetime.date(2019, 6, 30), 6350),\n",
       " (datetime.date(2019, 3, 31), 4541),\n",
       " (datetime.date(2018, 12, 31), 7226),\n",
       " (datetime.date(2018, 9, 30), 6824),\n",
       " (datetime.date(2018, 6, 30), 4002),\n",
       " (datetime.date(2018, 3, 31), 3409),\n",
       " (datetime.date(2017, 12, 31), 3288),\n",
       " (datetime.date(2017, 9, 30), 2985),\n",
       " (datetime.date(2017, 6, 30), 2790),\n",
       " (datetime.date(2017, 3, 31), 2696),\n",
       " (datetime.date(2016, 12, 31), 2285),\n",
       " (datetime.date(2016, 9, 30), 2298),\n",
       " (datetime.date(2016, 6, 30), 1270),\n",
       " (datetime.date(2016, 3, 31), 1147),\n",
       " (datetime.date(2015, 12, 31), 1214),\n",
       " (datetime.date(2015, 9, 30), 937),\n",
       " (datetime.date(2015, 6, 30), 955),\n",
       " (datetime.date(2015, 3, 31), 940),\n",
       " (datetime.date(2014, 12, 31), 957),\n",
       " (datetime.date(2014, 9, 30), 852),\n",
       " (datetime.date(2014, 6, 30), 769),\n",
       " (datetime.date(2014, 3, 31), 621),\n",
       " (datetime.date(2013, 12, 31), 615),\n",
       " (datetime.date(2013, 9, 30), 431),\n",
       " (datetime.date(2013, 6, 30), 405),\n",
       " (datetime.date(2013, 3, 31), 562),\n",
       " (datetime.date(2012, 12, 31), 306),\n",
       " (datetime.date(2012, 9, 30), 50),\n",
       " (datetime.date(2012, 6, 30), 27),\n",
       " (datetime.date(2012, 3, 31), 30),\n",
       " (datetime.date(2011, 12, 31), 39),\n",
       " (datetime.date(2011, 9, 30), 58),\n",
       " (datetime.date(2011, 6, 30), 58),\n",
       " (datetime.date(2011, 3, 31), 49),\n",
       " (datetime.date(2010, 12, 31), 36),\n",
       " (datetime.date(2010, 9, 30), 31),\n",
       " (datetime.date(2010, 6, 30), 28),\n",
       " (datetime.date(2010, 3, 31), 21),\n",
       " (datetime.date(2009, 9, 30), 46),\n",
       " (datetime.date(2009, 6, 30), 27))"
      ]
     },
     "execution_count": 83,
     "metadata": {},
     "output_type": "execute_result"
    }
   ],
   "source": [
    "cursor.execute(\"SELECT * FROM Evolucion\")\n",
    "registros = cursor.fetchall()\n",
    "registros"
   ]
  },
  {
   "cell_type": "markdown",
   "metadata": {},
   "source": [
    "Ahora vamos a graficar"
   ]
  },
  {
   "cell_type": "code",
   "execution_count": 11,
   "metadata": {},
   "outputs": [
    {
     "name": "stderr",
     "output_type": "stream",
     "text": [
      "C:\\Users\\jdean\\AppData\\Local\\Temp\\ipykernel_7556\\3750713404.py:2: SettingWithCopyWarning: \n",
      "A value is trying to be set on a copy of a slice from a DataFrame.\n",
      "Try using .loc[row_indexer,col_indexer] = value instead\n",
      "\n",
      "See the caveats in the documentation: https://pandas.pydata.org/pandas-docs/stable/user_guide/indexing.html#returning-a-view-versus-a-copy\n",
      "  data_frame['Date']=pd.to_datetime(data_frame['Date'])\n",
      "C:\\Users\\jdean\\AppData\\Local\\Temp\\ipykernel_7556\\3750713404.py:3: SettingWithCopyWarning: \n",
      "A value is trying to be set on a copy of a slice from a DataFrame.\n",
      "Try using .loc[row_indexer,col_indexer] = value instead\n",
      "\n",
      "See the caveats in the documentation: https://pandas.pydata.org/pandas-docs/stable/user_guide/indexing.html#returning-a-view-versus-a-copy\n",
      "  data_frame['Revenue'] = data_frame['Revenue'].astype('int')\n"
     ]
    },
    {
     "data": {
      "image/png": "[encoded data removed]",
      "text/plain": [
       "<Figure size 640x480 with 1 Axes>"
      ]
     },
     "metadata": {},
     "output_type": "display_data"
    }
   ],
   "source": [
    "import matplotlib.pyplot as plt\n",
    "data_frame['Date']=pd.to_datetime(data_frame['Date'])\n",
    "data_frame['Revenue'] = data_frame['Revenue'].astype('int')\n",
    "plt.plot(data_frame['Date'],data_frame['Revenue'])\n",
    "plt.xlabel('Date')\n",
    "plt.ylabel('Revenue')\n",
    "plt.title('Tesla Quarterly Revenue')\n",
    "plt.show()"
   ]
  },
  {
   "cell_type": "code",
   "execution_count": 19,
   "metadata": {},
   "outputs": [
    {
     "data": {
      "image/png": "[encoded data removed]",
      "text/plain": [
       "<Figure size 1000x500 with 1 Axes>"
      ]
     },
     "metadata": {},
     "output_type": "display_data"
    },
    {
     "data": {
      "text/html": [
       "<div>\n",
       "<style scoped>\n",
       "    .dataframe tbody tr th:only-of-type {\n",
       "        vertical-align: middle;\n",
       "    }\n",
       "\n",
       "    .dataframe tbody tr th {\n",
       "        vertical-align: top;\n",
       "    }\n",
       "\n",
       "    .dataframe thead th {\n",
       "        text-align: right;\n",
       "    }\n",
       "</style>\n",
       "<table border=\"1\" class=\"dataframe\">\n",
       "  <thead>\n",
       "    <tr style=\"text-align: right;\">\n",
       "      <th></th>\n",
       "      <th>Date</th>\n",
       "      <th>Revenue</th>\n",
       "    </tr>\n",
       "  </thead>\n",
       "  <tbody>\n",
       "    <tr>\n",
       "      <th>0</th>\n",
       "      <td>3</td>\n",
       "      <td>72475</td>\n",
       "    </tr>\n",
       "    <tr>\n",
       "      <th>1</th>\n",
       "      <td>6</td>\n",
       "      <td>76536</td>\n",
       "    </tr>\n",
       "    <tr>\n",
       "      <th>2</th>\n",
       "      <td>9</td>\n",
       "      <td>88147</td>\n",
       "    </tr>\n",
       "    <tr>\n",
       "      <th>3</th>\n",
       "      <td>12</td>\n",
       "      <td>101298</td>\n",
       "    </tr>\n",
       "  </tbody>\n",
       "</table>\n",
       "</div>"
      ],
      "text/plain": [
       "   Date  Revenue\n",
       "0     3    72475\n",
       "1     6    76536\n",
       "2     9    88147\n",
       "3    12   101298"
      ]
     },
     "execution_count": 19,
     "metadata": {},
     "output_type": "execute_result"
    }
   ],
   "source": [
    "mensual = data_frame.groupby(data_frame[\"Date\"].dt.month)[\"Revenue\"].sum().reset_index()\n",
    "fig, ax = plt.subplots(figsize=(10, 5))\n",
    "\n",
    "ax.bar(mensual[\"Date\"], mensual[\"Revenue\"])\n",
    "ax.set_xlabel(\"Mes\")\n",
    "ax.set_ylabel(\"Ingresos\")\n",
    "ax.set_title(\"Ingresos mensuales de Tesla\")\n",
    "plt.tight_layout()\n",
    "plt.show()\n",
    "\n",
    "mensual"
   ]
  }
 ],
 "metadata": {
  "kernelspec": {
   "display_name": "Python 3",
   "language": "python",
   "name": "python3"
  },
  "language_info": {
   "codemirror_mode": {
    "name": "ipython",
    "version": 3
   },
   "file_extension": ".py",
   "mimetype": "text/x-python",
   "name": "python",
   "nbconvert_exporter": "python",
   "pygments_lexer": "ipython3",
   "version": "3.12.2"
  }
 },
 "nbformat": 4,
 "nbformat_minor": 2
}
